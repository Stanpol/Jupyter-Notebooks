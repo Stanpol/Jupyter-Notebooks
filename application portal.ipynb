{
 "cells": [
  {
   "cell_type": "code",
   "execution_count": 115,
   "metadata": {
    "collapsed": true
   },
   "outputs": [],
   "source": [
    "from selenium import webdriver\n",
    "from selenium.webdriver.common.keys import Keys"
   ]
  },
  {
   "cell_type": "code",
   "execution_count": 116,
   "metadata": {
    "collapsed": false
   },
   "outputs": [],
   "source": [
    "driver = webdriver.Chrome(\"/Users/stanpol/Downloads/chromedriver\")\n",
    "driver.get(\"https://selfservice.udi.no/Templates/Public/Pages/Portal/Login.aspx?epslanguage=en-GB\")"
   ]
  },
  {
   "cell_type": "code",
   "execution_count": 117,
   "metadata": {
    "collapsed": false
   },
   "outputs": [],
   "source": [
    "driver.find_element_by_css_selector(\"a[id*=ctl00_PageRegion_LoginControl_btnShowLocalLogin]\").click()"
   ]
  },
  {
   "cell_type": "code",
   "execution_count": 118,
   "metadata": {
    "collapsed": true
   },
   "outputs": [],
   "source": [
    "elem = driver.find_element_by_name(\"ctl00$PageRegion$LoginControl$txtUsername\")"
   ]
  },
  {
   "cell_type": "code",
   "execution_count": 119,
   "metadata": {
    "collapsed": false
   },
   "outputs": [],
   "source": [
    "elem.send_keys(\"\")"
   ]
  },
  {
   "cell_type": "code",
   "execution_count": 120,
   "metadata": {
    "collapsed": true
   },
   "outputs": [],
   "source": [
    "elem2 = driver.find_element_by_name(\"ctl00$PageRegion$LoginControl$txtPassword\")"
   ]
  },
  {
   "cell_type": "code",
   "execution_count": 121,
   "metadata": {
    "collapsed": true
   },
   "outputs": [],
   "source": [
    "elem2.send_keys(\"\")"
   ]
  },
  {
   "cell_type": "code",
   "execution_count": 122,
   "metadata": {
    "collapsed": true
   },
   "outputs": [],
   "source": [
    "driver.find_element_by_css_selector(\"a[id*=ctl00_PageRegion_LoginControl_btnLocalLogin]\").click()"
   ]
  },
  {
   "cell_type": "code",
   "execution_count": 123,
   "metadata": {
    "collapsed": false
   },
   "outputs": [
    {
     "data": {
      "text/plain": [
       "u'Application Portal - Applicant Start'"
      ]
     },
     "execution_count": 123,
     "metadata": {},
     "output_type": "execute_result"
    }
   ],
   "source": [
    "driver.title"
   ]
  },
  {
   "cell_type": "code",
   "execution_count": 124,
   "metadata": {
    "collapsed": true
   },
   "outputs": [],
   "source": [
    "driver.find_element_by_css_selector(\"a[id*=ctl00_PageRegion_ContentRegion_MainContentRegion_ApplicationListLink]\").click()\n"
   ]
  },
  {
   "cell_type": "code",
   "execution_count": 125,
   "metadata": {
    "collapsed": false
   },
   "outputs": [
    {
     "data": {
      "text/plain": [
       "u'Application Portal - Application List'"
      ]
     },
     "execution_count": 125,
     "metadata": {},
     "output_type": "execute_result"
    }
   ],
   "source": [
    "driver.title"
   ]
  },
  {
   "cell_type": "code",
   "execution_count": 126,
   "metadata": {
    "collapsed": true
   },
   "outputs": [],
   "source": [
    "driver.find_element_by_name(\"ctl00$PageRegion$ContentRegion$MainContentRegion$ApplicationBox$applicationList$ctrl3$ctl00\").click()\n"
   ]
  },
  {
   "cell_type": "code",
   "execution_count": 127,
   "metadata": {
    "collapsed": false
   },
   "outputs": [
    {
     "data": {
      "text/plain": [
       "u'Application Portal - Permanent Residency'"
      ]
     },
     "execution_count": 127,
     "metadata": {},
     "output_type": "execute_result"
    }
   ],
   "source": [
    "driver.title"
   ]
  },
  {
   "cell_type": "code",
   "execution_count": 128,
   "metadata": {
    "collapsed": false
   },
   "outputs": [
    {
     "name": "stdout",
     "output_type": "stream",
     "text": [
      "09\n",
      "09\n"
     ]
    }
   ],
   "source": [
    "time = driver.find_element_by_css_selector(\"span[id*=ctl00_PageRegion_ContentRegion_MainContentRegion_ViewControl_spnOrgGroupSelector_BookingSummaryInfo_lblTime]\").get_attribute('innerHTML')\n",
    "date = driver.find_element_by_css_selector(\"span[id*=ctl00_PageRegion_ContentRegion_MainContentRegion_ViewControl_spnOrgGroupSelector_BookingSummaryInfo_lblDate]\").get_attribute('innerHTML')\n",
    "\n",
    "month = date.split(\"/\")[1]\n",
    "print month\n",
    "if int(month) < 9: push(\"Early date: \" + date + \" at \" + time)\n",
    "else: print month"
   ]
  },
  {
   "cell_type": "code",
   "execution_count": 129,
   "metadata": {
    "collapsed": false
   },
   "outputs": [],
   "source": [
    "driver.find_element_by_css_selector(\"a[id*=ctl00_PageRegion_HeaderRegion_ctl00_ctl00_Logout_LogoutLink]\").click()\n"
   ]
  },
  {
   "cell_type": "code",
   "execution_count": 130,
   "metadata": {
    "collapsed": false
   },
   "outputs": [
    {
     "data": {
      "text/plain": [
       "u'Application Portal - Start'"
      ]
     },
     "execution_count": 130,
     "metadata": {},
     "output_type": "execute_result"
    }
   ],
   "source": [
    "driver.title"
   ]
  },
  {
   "cell_type": "code",
   "execution_count": 131,
   "metadata": {
    "collapsed": true
   },
   "outputs": [],
   "source": [
    "driver.quit()"
   ]
  },
  {
   "cell_type": "code",
   "execution_count": 132,
   "metadata": {
    "collapsed": true
   },
   "outputs": [],
   "source": [
    "import requests\n",
    "\n",
    "def push(message):\n",
    "    payload = {\n",
    "        \"token\": \"\",\n",
    "        \"user\": \"\",\n",
    "        \"message\": message,\n",
    "        \"priority\": \"1\"\n",
    "    }\n",
    "    headers = { \"Content-type\": \"application/x-www-form-urlencoded\" }\n",
    "    r = requests.post(\"https://api.pushover.net/1/messages.json\", data=payload, headers=headers)\n",
    "    return r.text"
   ]
  },
  {
   "cell_type": "code",
   "execution_count": null,
   "metadata": {
    "collapsed": true
   },
   "outputs": [],
   "source": []
  }
 ],
 "metadata": {
  "kernelspec": {
   "display_name": "Python 2",
   "language": "python",
   "name": "python2"
  },
  "language_info": {
   "codemirror_mode": {
    "name": "ipython",
    "version": 2
   },
   "file_extension": ".py",
   "mimetype": "text/x-python",
   "name": "python",
   "nbconvert_exporter": "python",
   "pygments_lexer": "ipython2",
   "version": "2.7.9"
  }
 },
 "nbformat": 4,
 "nbformat_minor": 0
}
