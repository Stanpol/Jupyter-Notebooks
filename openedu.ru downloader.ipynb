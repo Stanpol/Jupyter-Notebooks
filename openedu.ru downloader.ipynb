{
 "cells": [
  {
   "cell_type": "code",
   "execution_count": null,
   "metadata": {
    "collapsed": true
   },
   "outputs": [],
   "source": [
    "import mechanize\n",
    "import cookielib\n",
    "import re\n",
    "from bs4 import BeautifulSoup\n",
    "\n",
    "br = mechanize.Browser()\n",
    "\n",
    "cj = cookielib.LWPCookieJar()\n",
    "br.set_cookiejar(cj)\n",
    "\n",
    "br.set_handle_equiv(True)\n",
    "br.set_handle_gzip(True)\n",
    "br.set_handle_redirect(True)\n",
    "br.set_handle_referer(True)\n",
    "br.set_handle_robots(False)\n",
    "br.set_handle_refresh(mechanize._http.HTTPRefreshProcessor(), max_time=1)\n",
    "\n",
    "br.addheaders = [('User-agent', 'Mozilla/5.0 (X11; U; Linux i686; en-US; rv:1.9.0.1) Gecko/2008071615 Fedora/3.0.1-1.fc9 Firefox/3.0.1')]\n",
    "\n",
    "r = br.open('https://sso.openedu.ru/login/')\n",
    "html = r.read()\n",
    "br.select_form(nr=0)\n",
    "br.form['username']=''\n",
    "br.form['password']=''\n",
    "br.submit()\n",
    "r = br.open('https://courses.openedu.ru/courses/course-v1:mipt+GAMETH+fall_2015/courseware/')\n",
    "html = r.read()\n",
    "soup = BeautifulSoup(html, 'html.parser')\n",
    "chapters = soup.select(\".chapter ul li a\")\n",
    "links = []\n",
    "for i in chapters:\n",
    "\tr = br.open('https://courses.openedu.ru'+i[\"href\"])\n",
    "\thtml = r.read()\n",
    "\tfiles = re.findall(r'http://[^\\s<>\"]+.mp4', str(html))\n",
    "\tfor link in files:\n",
    "\t\tif link not in links:\n",
    "\t\t\tlinks.append(link)\n",
    "for l in links:\n",
    "\tprint l"
   ]
  }
 ],
 "metadata": {
  "kernelspec": {
   "display_name": "Python 2",
   "language": "python",
   "name": "python2"
  },
  "language_info": {
   "codemirror_mode": {
    "name": "ipython",
    "version": 2
   },
   "file_extension": ".py",
   "mimetype": "text/x-python",
   "name": "python",
   "nbconvert_exporter": "python",
   "pygments_lexer": "ipython2",
   "version": "2.7.9"
  }
 },
 "nbformat": 4,
 "nbformat_minor": 0
}
